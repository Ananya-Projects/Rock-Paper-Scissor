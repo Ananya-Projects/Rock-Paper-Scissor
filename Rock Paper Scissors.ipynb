{
 "cells": [
  {
   "cell_type": "code",
   "execution_count": 1,
   "id": "42301dde-43ee-470b-99aa-16a5b855a205",
   "metadata": {},
   "outputs": [],
   "source": [
    "import re\n",
    "import random"
   ]
  },
  {
   "cell_type": "code",
   "execution_count": 6,
   "id": "9ef0d479-0d52-43df-b983-340dbd739cc6",
   "metadata": {},
   "outputs": [
    {
     "name": "stdout",
     "output_type": "stream",
     "text": [
      "Rock Paper Scissors - Shoot!\n"
     ]
    },
    {
     "name": "stdin",
     "output_type": "stream",
     "text": [
      "Please choose your option: [R]ock, [P]aper, [S]cissors or [E]xit.  r\n"
     ]
    },
    {
     "name": "stdout",
     "output_type": "stream",
     "text": [
      "Your Choice: r\n",
      "I chose :S\n",
      "You win\n",
      "Rock Paper Scissors - Shoot!\n"
     ]
    },
    {
     "name": "stdin",
     "output_type": "stream",
     "text": [
      "Please choose your option: [R]ock, [P]aper, [S]cissors or [E]xit.  r\n"
     ]
    },
    {
     "name": "stdout",
     "output_type": "stream",
     "text": [
      "Your Choice: r\n",
      "I chose :P\n",
      "I win\n",
      "Rock Paper Scissors - Shoot!\n"
     ]
    },
    {
     "name": "stdin",
     "output_type": "stream",
     "text": [
      "Please choose your option: [R]ock, [P]aper, [S]cissors or [E]xit.  r\n"
     ]
    },
    {
     "name": "stdout",
     "output_type": "stream",
     "text": [
      "Your Choice: r\n",
      "I chose :R\n",
      "TIE\n",
      "Rock Paper Scissors - Shoot!\n"
     ]
    },
    {
     "name": "stdin",
     "output_type": "stream",
     "text": [
      "Please choose your option: [R]ock, [P]aper, [S]cissors or [E]xit.  r\n"
     ]
    },
    {
     "name": "stdout",
     "output_type": "stream",
     "text": [
      "Your Choice: r\n",
      "I chose :R\n",
      "TIE\n",
      "Rock Paper Scissors - Shoot!\n"
     ]
    },
    {
     "name": "stdin",
     "output_type": "stream",
     "text": [
      "Please choose your option: [R]ock, [P]aper, [S]cissors or [E]xit.  e\n"
     ]
    },
    {
     "name": "stdout",
     "output_type": "stream",
     "text": [
      "Your Choice: e\n",
      "Exiting game...\n"
     ]
    }
   ],
   "source": [
    "while(1<2):\n",
    "    print('Rock Paper Scissors - Shoot!')\n",
    "\n",
    "    userChoice = input('Please choose your option: [R]ock, [P]aper, [S]cissors or [E]xit. ')\n",
    "\n",
    "    if (not re.match(\"[RrPpSsEe]\", userChoice)) or (len(userChoice) != 1):\n",
    "        print('Please choose from the following options: ')\n",
    "        print('[R]ock, [P]aper, [S]cissors or [E]xit')\n",
    "        continue\n",
    "\n",
    "    print('Your Choice: ' + userChoice)\n",
    "\n",
    "    if userChoice == 'E' or userChoice == 'e':\n",
    "        print('Exiting game...')\n",
    "        break\n",
    "\n",
    "    choices = ['R' , 'P' , 'S']\n",
    "\n",
    "    computerChoice = random.choice(choices)\n",
    "\n",
    "    print('I chose :' + computerChoice)\n",
    "\n",
    "    if computerChoice == str.upper(userChoice):\n",
    "        print('TIE')\n",
    "        \n",
    "    elif computerChoice == 'R' and userChoice.upper() == 'S':\n",
    "        print('I win')\n",
    "        continue\n",
    "    elif computerChoice == 'S' and userChoice.upper() == 'P':\n",
    "        print('I win')\n",
    "        continue\n",
    "    elif computerChoice == 'P' and userChoice.upper() == 'R':\n",
    "        print('I win')\n",
    "        continue\n",
    "    else:\n",
    "        print('You win')"
   ]
  },
  {
   "cell_type": "code",
   "execution_count": null,
   "id": "ddd58f5c-583a-4143-aba7-fa222bb7226b",
   "metadata": {},
   "outputs": [],
   "source": []
  }
 ],
 "metadata": {
  "kernelspec": {
   "display_name": "Python 3 (ipykernel)",
   "language": "python",
   "name": "python3"
  },
  "language_info": {
   "codemirror_mode": {
    "name": "ipython",
    "version": 3
   },
   "file_extension": ".py",
   "mimetype": "text/x-python",
   "name": "python",
   "nbconvert_exporter": "python",
   "pygments_lexer": "ipython3",
   "version": "3.11.7"
  }
 },
 "nbformat": 4,
 "nbformat_minor": 5
}
